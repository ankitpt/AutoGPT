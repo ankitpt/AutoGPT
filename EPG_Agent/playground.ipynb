{
 "cells": [
  {
   "cell_type": "code",
   "execution_count": 4,
   "metadata": {},
   "outputs": [],
   "source": [
    "import requests\n",
    "import json"
   ]
  },
  {
   "cell_type": "markdown",
   "metadata": {},
   "source": [
    "### UTILS"
   ]
  },
  {
   "cell_type": "code",
   "execution_count": 13,
   "metadata": {},
   "outputs": [],
   "source": [
    "from typing import List\n",
    "PYQS_PATH = \"data/mar25_pyqs.json\"\n",
    "with open(PYQS_PATH, \"r\") as f:\n",
    "    PYQS: List[dict] = json.load(f)\n",
    "    \n",
    "ID_TO_PYQ = {pyq[\"id\"]: pyq for pyq in PYQS}\n",
    "IDX_2_ANS = [\"(a)\", \"(b)\", \"(c)\", \"(d)\", \"(e)\", \"(f)\", \"(g)\", \"(h)\", \"(i)\", \"(j)\"]\n",
    "\n",
    "def pyqs_to_xml(questions: List[dict]) -> str:\n",
    "    xml_string = '<questions>\\n'\n",
    "\n",
    "    for i, question_dict in enumerate(questions):\n",
    "        xml_string += '  <question id=\"{}\">\\n'.format(i)\n",
    "        xml_string += '    <text>{}</text>\\n'.format(question_dict[\"question\"])\n",
    "        xml_string += '    <options>\\n'\n",
    "        \n",
    "        for i, option in enumerate(question_dict['options']):\n",
    "            xml_string += '      <option>{}</option>\\n'.format(IDX_2_ANS[i] + \" \" + option)\n",
    "        \n",
    "        xml_string += '    </options>\\n'\n",
    "        xml_string += '  </question>\\n'\n",
    "\n",
    "    xml_string += '</questions>'\n",
    "    return xml_string\n",
    "\n",
    "def get_current_affairs(query):\n",
    "\n",
    "    url=\"https://dev-ai.server.sigiq.ai/async/news-rag/\"\n",
    "\n",
    "    data = {\n",
    "        \"query\": query,\n",
    "    }    \n",
    "\n",
    "    headers = {'Content-Type': 'application/json'}\n",
    "\n",
    "    response = requests.get(url, headers=headers, data=json.dumps(data))\n",
    "\n",
    "    # Checking if the request was successful\n",
    "    if response.ok:\n",
    "        # Parsing the JSON response\n",
    "        response_data = response.json()\n",
    "        return response_data['response']\n",
    "    else:\n",
    "        print(\"Failed to get data from the endpoint. Status Code:\", response.status_code)\n",
    "        \n",
    "def pyq_search(query: str, topics: List[str] = [], start_year: int = 1993, end_year: int = 2023) -> str:\n",
    "    # Endpoint URL\n",
    "    url = 'https://dev-ai.server.sigiq.ai/async/custom-pyq-retrieval/'\n",
    "\n",
    "    # JSON body data\n",
    "    data = {\n",
    "        \"query\": query,\n",
    "        \"topics\": topics,\n",
    "        \"start_year\": start_year,\n",
    "        \"end_year\": end_year\n",
    "    }\n",
    "\n",
    "    # Headers to indicate JSON content\n",
    "    headers = {'Content-Type': 'application/json'}\n",
    "\n",
    "    # Making the GET request with JSON body\n",
    "    response = requests.get(url, headers=headers, data=json.dumps(data))\n",
    "\n",
    "    # Checking if the request was successful\n",
    "    if response.ok:\n",
    "        # Parsing the JSON response\n",
    "        response_data = response.json()\n",
    "                \n",
    "        # Get all Question IDS from response_data\n",
    "        question_ids = [elem[0] for elem in response_data['high_relevance_ids']] + [elem[0] for elem in response_data['low_relevance_ids_scores']]\n",
    "        \n",
    "        questions = [ID_TO_PYQ[question_id] for question_id in question_ids]\n",
    "        \n",
    "        return pyqs_to_xml(questions)\n",
    "    else:\n",
    "        print(\"Failed to get data from the endpoint. Status Code:\", response.status_code)\n",
    "        return \"\"\n",
    "\n",
    "    "
   ]
  },
  {
   "cell_type": "code",
   "execution_count": 17,
   "metadata": {},
   "outputs": [
    {
     "name": "stdout",
     "output_type": "stream",
     "text": [
      "### South China Sea Disputes and Incidents\n",
      "\n",
      "#### Overview\n",
      "The South China Sea has been a region of heightened tensions due to overlapping territorial claims by China, the Philippines, Vietnam, Malaysia, Taiwan, and Brunei. The strategic and economically significant waterway has seen a series of confrontations, particularly between China and the Philippines.\n",
      "\n",
      "#### Key Incidents and Responses\n",
      "\n",
      "- **October 23, 2023**: Chinese and Philippine vessels collided near Second Thomas Shoal, with accusations of dangerous maneuvers and water cannon use by the Chinese Coast Guard.\n",
      "- **November 2023**: A Chinese coast guard ship and accompanying vessels conducted dangerous maneuvers, blocking and colliding with a Philippine supply boat, causing injuries and damage.\n",
      "- **March 2024**: Chinese coast guard ships attempted to block Philippine government vessels carrying scientists for marine and biodiversity research at Sandy Cay. Despite warnings, the Filipino team completed their research.\n",
      "- **March 2024**: Chinese forces hit a Filipino boat with water cannons near the Second Thomas Shoal, causing injuries and damage. The U.S., Japan, and other countries condemned China's actions.\n",
      "- **March 2024**: The Philippines lodged a protest against China over the water cannon assault. China warned that relations were at a crossroads, urging the Philippines to choose a prudent path forward.\n",
      "- **March 2024**: India expressed support for the Philippines' sovereignty during External Affairs Minister S. Jaishankar's visit to Manila. China urged India and the Philippines to respect its territorial sovereignty.\n",
      "- **March 2024**: Philippine President Ferdinand Marcos Jr. warned of countermeasures against China's aggression in the South China Sea, stating that \"Filipinos do not yield.\"\n",
      "\n",
      "#### International Law and Agreements\n",
      "\n",
      "- The 1982 UN Convention on the Law of the Seas (UNCLOS) is cited as the \"constitution of the seas,\" with an emphasis on adherence by all parties.\n",
      "- The Permanent Court of Arbitration in The Hague ruled in favor of the Philippines in 2016 concerning China's claims in the South China Sea, but China rejected the judgment.\n",
      "\n",
      "#### Strategic and Defense Cooperation\n",
      "\n",
      "- The Philippines has strengthened its strategic and defense cooperation with the U.S., with access granted to nine Philippine military bases.\n",
      "- The U.S. has reiterated its commitment to defend the Philippines if its forces come under attack in the South China Sea.\n",
      "\n",
      "#### Regional and Global Reactions\n",
      "\n",
      "- The ASEAN summit in Melbourne discussed the territorial disputes in the South China Sea.\n",
      "- The U.S., Japan, Australia, the European Union, and other countries have expressed support for the Philippines and the rule of law in the region.\n",
      "\n",
      "#### Editorial Perspectives\n",
      "\n",
      "- Editorials have called for China to adopt dialogue to resolve disputes with neighbors and opt for benign engagement rather than coercive tactics.\n",
      "\n",
      "#### Current Status\n",
      "\n",
      "- The situation remains tense, with the potential for further confrontations and the need for diplomatic efforts to manage and resolve disputes in the South China Sea.\n"
     ]
    }
   ],
   "source": [
    "result = get_current_affairs(\"South China Sea\")\n",
    "print(result)"
   ]
  },
  {
   "cell_type": "code",
   "execution_count": 33,
   "metadata": {},
   "outputs": [],
   "source": [
    "def book_rag(query: str):\n",
    "    url=\"https://dev-ai.server.sigiq.ai/async/book-rag/book_rag_for_agent/\"\n",
    "\n",
    "    data = {\n",
    "        \"book\": \"polity_laxmikanth\",\n",
    "        \"query\": query,\n",
    "    }    \n",
    "\n",
    "    headers = {'Content-Type': 'application/json'}\n",
    "\n",
    "    response = requests.get(url, headers=headers, data=json.dumps(data), timeout=180)\n",
    "\n",
    "    # Checking if the request was successful\n",
    "    if response.ok:\n",
    "        # Parsing the JSON response\n",
    "        return response\n",
    "    else:\n",
    "        print(\"Failed to get data from the endpoint. Status Code:\", response.status_code)\n",
    "        return response\n"
   ]
  },
  {
   "cell_type": "code",
   "execution_count": 37,
   "metadata": {},
   "outputs": [],
   "source": [
    "book_rag_resp = book_rag(query=\"Are constitutional amendments under Art 368 considered laws within the meaning of Art 13?\")"
   ]
  },
  {
   "cell_type": "code",
   "execution_count": 38,
   "metadata": {},
   "outputs": [],
   "source": [
    "resp = book_rag_resp.json()['response']"
   ]
  },
  {
   "cell_type": "code",
   "execution_count": 42,
   "metadata": {},
   "outputs": [
    {
     "data": {
      "text/plain": [
       "{'text': \"Furthermore, the book elaborates that *Article 368* provides the procedure for the amendment of the Constitution and explicitly states that the Parliament may, in exercise of its constituent power, amend by way of addition, variation, or repeal any provision of the Constitution. However, the Supreme Court in the *Kesavananda Bharati case* also ruled that the constituent power of Parliament under Article 368 does not enable it to alter the 'basic structure' of the Constitution. This implies that while Parliament has the power to amend the Constitution, this power is not absolute and is subject to certain inherent limitations, which are not defined under Article 13 but are part of the 'basic structure' doctrine.\",\n",
       " 'locations': [{'chapter': 'amendment of the constitution',\n",
       "   'chapter_num': 10,\n",
       "   'section': 'procedure for amendment',\n",
       "   'subsection': ''},\n",
       "  {'chapter': 'basic structure of the constitution',\n",
       "   'chapter_num': 11,\n",
       "   'section': 'elements of the basic structure',\n",
       "   'subsection': ''}]}"
      ]
     },
     "execution_count": 42,
     "metadata": {},
     "output_type": "execute_result"
    }
   ],
   "source": [
    "resp[1]"
   ]
  },
  {
   "cell_type": "code",
   "execution_count": 49,
   "metadata": {},
   "outputs": [],
   "source": [
    "def format_answer_xml(answer_components):\n",
    "    xml = '<answer>\\n'\n",
    "    \n",
    "    for component in answer_components:\n",
    "        xml += '  <component>\\n'\n",
    "        xml += f'    <text>{component[\"text\"]}</text>\\n'\n",
    "        xml += '    <locations>\\n'\n",
    "        for location in component['locations']:\n",
    "            xml += '      <location>\\n'\n",
    "            xml += f'        <chapter>{location[\"chapter\"]}</chapter>\\n'\n",
    "            xml += f'        <chapter_num>{location[\"chapter_num\"]}</chapter_num>\\n'\n",
    "            xml += f'        <section>{location[\"section\"]}</section>\\n'\n",
    "            xml += f'        <subsection>{location[\"subsection\"]}</subsection>\\n'\n",
    "            xml += '      </location>\\n'\n",
    "        xml += '    </locations>\\n'\n",
    "        xml += '  </component>\\n'\n",
    "    \n",
    "    xml += '</answer>'\n",
    "    return xml"
   ]
  },
  {
   "cell_type": "code",
   "execution_count": 50,
   "metadata": {},
   "outputs": [
    {
     "name": "stdout",
     "output_type": "stream",
     "text": [
      "<answer>\n",
      "  <component>\n",
      "    <text>The question of whether constitutional amendments under Article 368 are considered 'laws' within the meaning of Article 13 has been a subject of judicial scrutiny. According to the book, **Article 13** declares that all laws that are inconsistent with or in derogation of the Fundamental Rights shall be void. In this context, 'law' includes not only legislation but also ordinances, orders, bye-laws, rules, regulations, and notifications. However, the Supreme Court held in the *Kesavananda Bharati case (1973)* that a Constitutional amendment is not a 'law' within the meaning of Article 13. Therefore, the amendments to the Constitution made under Article 368 are not subject to the same scrutiny as ordinary laws under Article 13.</text>\n",
      "    <locations>\n",
      "      <location>\n",
      "        <chapter>judicial review</chapter>\n",
      "        <chapter_num>27</chapter_num>\n",
      "        <section>meaning of judicial review</section>\n",
      "        <subsection></subsection>\n",
      "      </location>\n",
      "      <location>\n",
      "        <chapter>fundamental rights</chapter>\n",
      "        <chapter_num>7</chapter_num>\n",
      "        <section>laws inconsistent with fundamental rights</section>\n",
      "        <subsection></subsection>\n",
      "      </location>\n",
      "    </locations>\n",
      "  </component>\n",
      "  <component>\n",
      "    <text>Furthermore, the book elaborates that *Article 368* provides the procedure for the amendment of the Constitution and explicitly states that the Parliament may, in exercise of its constituent power, amend by way of addition, variation, or repeal any provision of the Constitution. However, the Supreme Court in the *Kesavananda Bharati case* also ruled that the constituent power of Parliament under Article 368 does not enable it to alter the 'basic structure' of the Constitution. This implies that while Parliament has the power to amend the Constitution, this power is not absolute and is subject to certain inherent limitations, which are not defined under Article 13 but are part of the 'basic structure' doctrine.</text>\n",
      "    <locations>\n",
      "      <location>\n",
      "        <chapter>amendment of the constitution</chapter>\n",
      "        <chapter_num>10</chapter_num>\n",
      "        <section>procedure for amendment</section>\n",
      "        <subsection></subsection>\n",
      "      </location>\n",
      "      <location>\n",
      "        <chapter>basic structure of the constitution</chapter>\n",
      "        <chapter_num>11</chapter_num>\n",
      "        <section>elements of the basic structure</section>\n",
      "        <subsection></subsection>\n",
      "      </location>\n",
      "    </locations>\n",
      "  </component>\n",
      "  <component>\n",
      "    <text>It is important to note that the interpretation of the Constitution and its amendments is ultimately determined by the *Supreme Court*, which has the authority to declare any law unconstitutional if it contravenes the provisions of the Constitution. This judicial review is a fundamental aspect of the Indian legal system and ensures that the Constitution remains the supreme law of the land.</text>\n",
      "    <locations>\n",
      "      <location>\n",
      "        <chapter>judicial review</chapter>\n",
      "        <chapter_num>27</chapter_num>\n",
      "        <section>scope of judicial review</section>\n",
      "        <subsection></subsection>\n",
      "      </location>\n",
      "    </locations>\n",
      "  </component>\n",
      "</answer>\n"
     ]
    }
   ],
   "source": [
    "print(format_answer_xml(resp))"
   ]
  },
  {
   "cell_type": "code",
   "execution_count": null,
   "metadata": {},
   "outputs": [],
   "source": []
  }
 ],
 "metadata": {
  "kernelspec": {
   "display_name": "epg_agent",
   "language": "python",
   "name": "python3"
  },
  "language_info": {
   "codemirror_mode": {
    "name": "ipython",
    "version": 3
   },
   "file_extension": ".py",
   "mimetype": "text/x-python",
   "name": "python",
   "nbconvert_exporter": "python",
   "pygments_lexer": "ipython3",
   "version": "3.11.5"
  }
 },
 "nbformat": 4,
 "nbformat_minor": 2
}
